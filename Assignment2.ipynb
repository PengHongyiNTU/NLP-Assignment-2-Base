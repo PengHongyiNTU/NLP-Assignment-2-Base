{
 "cells": [
  {
   "cell_type": "markdown",
   "metadata": {},
   "source": [
    "# CE7455 Assignment 2"
   ]
  },
  {
   "cell_type": "markdown",
   "metadata": {},
   "source": [
    "Name: PENG HONGYI <br>\n",
    "Matric No: G2105029E"
   ]
  },
  {
   "cell_type": "markdown",
   "metadata": {},
   "source": [
    "## Quetion One (i)"
   ]
  },
  {
   "cell_type": "markdown",
   "metadata": {},
   "source": [
    "__Named Entity Recognition__ (NER) as an important task in NLP, attemps to classify predefined entities in a sentence. In our assignment, we use _eng.train_ for training, _eng.testa_ for validation and _eng.testb_ for testing.  "
   ]
  },
  {
   "cell_type": "markdown",
   "metadata": {},
   "source": [
    "A sentence in the dataset is presented below, where the first columns is the input word and the last column is the output tag. The dataset contains four different types of predefined entities: PERSON, LOCATION, ORGANIZATION, and MISC. As shown in the fourth column, the fourth column contains the groudtruth entity name and the BIO tag, seperated by '-'.\n",
    "\n",
    "| Word    |     |      | Tag    |\n",
    "|---------|-----|------|--------|\n",
    "| EU      | NNP | I-NP | I-ORG  |\n",
    "| rejects | VBZ | I-VP | O      |\n",
    "| German  | JJ  | I-NP | I-MISC |\n",
    "| call    | NN  | I-NP | O      |\n",
    "| to      | TO  | I-VP | O      |\n",
    "| boycott | VB  | I-VP | O      |\n",
    "| British | JJ  | I-NP | I-MISC |\n",
    "| lamb    | NN  | I-NP | O      |\n",
    "| .       | .   | O    | O      |"
   ]
  },
  {
   "cell_type": "markdown",
   "metadata": {},
   "source": [
    "## Question one (ii)\n"
   ]
  },
  {
   "cell_type": "markdown",
   "metadata": {},
   "source": [
    "There are 5 preprocessing steps in the code provided:\n",
    "* Replacing all the digit with 0.\n",
    "* Convert BIO tagging to BIOES tagging.\n",
    "* Generate words mapping.\n",
    "* Generate tag mapping.\n",
    "* Generate chracter mapping.\n",
    "Mappings here are dictionaries that assign an integer id to every unique word, character and tag. After the proprocessing step, we found: \n",
    "\n",
    "> Found 17493 unique words (203621 in total) \n",
    "Found 75 unique characters \n",
    "Found 19 unique named entity tags\n",
    "\n",
    "The preprocessed dataset is stored in _data/mapping.pkl_. To save time, we will directly processed data."
   ]
  },
  {
   "cell_type": "markdown",
   "metadata": {},
   "source": [
    "## Question one (iii)"
   ]
  },
  {
   "cell_type": "code",
   "execution_count": null,
   "metadata": {},
   "outputs": [],
   "source": []
  }
 ],
 "metadata": {
  "language_info": {
   "name": "python"
  },
  "orig_nbformat": 4
 },
 "nbformat": 4,
 "nbformat_minor": 2
}
